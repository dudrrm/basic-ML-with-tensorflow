{
 "cells": [
  {
   "cell_type": "markdown",
   "metadata": {},
   "source": [
    "# CNN image classifier (cifar10)\n",
    "---\n",
    "week 3-2 \n",
    "\n",
    "                                                                           written by Yang, So young\n",
    "                                                                                     2017.07.19 v1.0\n",
    "                                                                                     2017.07.20 v1.1\n",
    "                                                                                     2017.07.21 v1.2\n",
    "                                                                                     2017.08.08 v1.3\n",
    "                                                                                     \n",
    "1. import\n",
    "2. load data\n",
    "3. widget - parameters\n",
    "4. tensorflow : graphing\n",
    "5. tensorflow : Session().run\n",
    "6. plot : prediction with corrects\n",
    "\n",
    "---\n",
    "## CNN\n",
    "\n",
    "reference : \n",
    "- [cnn in udacity deep-learning](https://www.youtube.com/watch?v=jajksuQW4mc&list=PLAwxTw4SYaPn_OWPFT9ulXLuQrImzHfOV&index=37) \n",
    "- [cnn2 in udacity deep-learning](https://www.youtube.com/watch?v=Fif8uipYuHE&list=PLAwxTw4SYaPn_OWPFT9ulXLuQrImzHfOV&index=39) \n",
    "- __[cnn in brohrer github io](https://brohrer.github.io/how_convolutional_neural_networks_work.html)__\n",
    "- [cnn in emacs(korean)](https://emcslabs.github.io/machinelearning/CNN)\n",
    "- [cnn in ML(naver blog)](https://m.blog.naver.com/PostView.nhn?blogId=laonple&logNo=220624485850&proxyReferer=https%3A%2F%2Fwww.google.co.kr%2F)\n",
    "<br>\n",
    "\n",
    "### 1. Convolutional Neural Network\n",
    "<img src=\"./imgs/cnn.png\" style=\"width: 600px;\">\n",
    "\n",
    "- cnn(convolutional neural network)은 이미지처리에서 주로 쓰이는 뉴럴넷이다. 이미지에 이미지보다 작은 Weight를 이동시키면서 곱해 이미지의 특성을 추출한다. 인풋 이미지가 같은 Weight(parameters)를 공유하는데, 부분적인 관계를 통해 특성을 추출한다. convolution을 통해 특성을 추출하고 뉴럴넷에 적합화된 결과값을 다시 DNN의 인풋으로 넣는다. 기존에 이미지 자체를 DNN의 인풋으로 넣는 것보다 성능이 좋다.\n",
    "- 주로 이미지가 무엇인지 인지하게 하며 (말 사진이 입력값일 때 CNN의 타겟값은 '말'), 대표적으로 [cifar10](https://www.cs.toronto.edu/~kriz/cifar.html) 데이터를 사용한다. \n",
    "- cnn은 이미지의 특징을 추출하는 conv layers뒤에 fully connected된 DNN layers가 오는 뉴럴넷이다.\n",
    "- 간단하게는 2개의 conv layers, 3개의 fully conneced layers로 구성되는데 인풋에 따라 매번 다르므로 여러번 돌려보고 각자의 모델에 적합하게 조정하는 것이 좋다.\n",
    "\n",
    "<img src=\"./imgs/cnn_conv_layer.png\" style=\"width: 600px;\">\n",
    "- 인풋 이미지가 256 \\* 256 \\* 3 인데, 이는 세로 픽셀 256, 가로 픽셀 256, 그리고 RGB 3채널로 이루어진 이미지라는 뜻이다.\n",
    "- 인풋의 conv 연산을 끝낸 뒤 결과값이 128 \\* 128 \\* 16 인 것은, 128 * 128 크기의 피쳐맵(feature map)을 16개 만들었다는 뜻이다.\n",
    "- 피쳐맵(feature map)은 conv layer의 결과값으로, 레이어를 지날 수록 피쳐맵의 크기는 줄이고 피쳐맵의 갯수는 늘린다. 보통 피쳐맵의 크기와 패쳐맵의 갯수는 반비례하게 만들어서 총 연산 시간을 일정하게 유지한다. 피쳐맵의 크기가 1/4로 줄었다면(2nd-3rd 레이어에서 128\\*128 -> 64\\*64) 피쳐맵의 갯수는 4배로 늘리는(16 -> 64) 식이다.\n",
    "\n",
    "<br>\n",
    "\n",
    "### 2. conv layer\n",
    "#### 1) Weight\n",
    "<img src=\"./imgs/cnn_conv2d.png\" style=\"width: 500px;\">\n",
    "<img src=\"./imgs/cnn_strides1.png\" style=\"width: 500px;\">\n",
    "- conv layer에서는 이미지의 특징을 추출한다. patch는 Weight를 곱하는 사이즈이다.\n",
    "- 이미지보다 작은 사이즈의 필터를 움직이며 이미지의 부분에 곱한다. 만약 필터 사이즈가 이미지 사이즈와 같다면 일반 ANN과 같다.\n",
    "- Weight의 차원은 [filter_size_x, filter_size_y, input_depth, output_depth] 으로, 위 사진에서는 [filter_size_x, filter_size_y, 3, k]이다.\n",
    "\n",
    "<img src=\"./imgs/cnn_weight.png\" style=\"width: 600px;\">\n",
    "- 글자 X의 이미지에 필터 \\ 를 곱해 이미지에서 특징을 추출했다. 이와 같은 방식으로 이미지의 테두리(edge)나 방향 등 여러 특징들을 뽑아내게 된다.\n",
    "<br>\n",
    "\n",
    "#### 2) Stride\n",
    "<img src=\"./imgs/cnn_strides0.png\" style=\"width: 600px;\">\n",
    "- 이미지에서 Weight를 옮길 때 몇 칸씩 옮길지 결정하는 사이즈이다. 주로 1씩 옮겨 주변의 convolutions를 가져오는데, 하나씩 옮겨야 주변(neighbor)과의 관계를 더 잘 파악할 수 있다. 또한 1씩 옮기면 convolution 연산을 수행하고 풀링(pooling) 할 때 값을 선택적으로 고를 수 있지만, stride를 크게 하면 그러한 선택의 기회가 줄어든다.\n",
    "<br>\n",
    "\n",
    "#### 3) padding\n",
    "<img src=\"./imgs/cnn_padding.png\" style=\"width: 600px;\">\n",
    "- stride를 1로 하고 Weight를 곱하여 결과값들을 가져오면, 결과 이미지(feature map)는 원래의 이미지보다 사이즈가 작아진다. 사이즈가 작아지는 것을 피하기 위해 원래 이미지의 가장자리를 0이나 특정 값으로 둘러싼다. 이때 0으로 둘러싸는 것을 zero-padding이라고 한다. 패딩 과정을 통해 Weight를 곱한 후에도 기존의 사이즈를 유지하도록 한다.\n",
    "- 'same' padding : 가장자리를 패딩한 후 Weight를 곱한다. Weight를 곱한 뒤에도 원래 이미지 사이즈를 유지한다.\n",
    "    - 결과 이미지의 사이즈 : tf.ceil(input_shape/stride_shape) \n",
    "- 'valide' padding : 패딩하지 않고 원래 이미지에 Weight를 곱한다. 결과 이미지는 원래 이미지보다 작다.\n",
    "    - 결과 이미지의 사이즈 : tf.ceil((input_shape - (filter_shape - 1))/stride_shape)\n",
    "<br>\n",
    "\n",
    "#### 4) pooling\n",
    "<img src=\"./imgs/cnn_pooling.png\" style=\"width: 600px;\">\n",
    "<img src=\"./imgs/cnn_maxpooling.png\" style=\"width: 600px;\">\n",
    "- 앞서 말했듯, 주변과의 관계를 뽑아내기 위해 stride는 주로 1씩 쓴다. 하지만 이 경우 결과 이미지의 사이즈가 크다는 단점이 있다. 따라서 stride=1로 하여 결과값을 가져온 뒤, 풀링 사이즈 내에서 풀링값을 뽑아내 차원을 줄인다. \n",
    "- 차원을 줄여주는 동시에, 보통 더 정확하기까지 하다. 정보를 적게 잃으면서 처리하는 정보량을 줄일 수 있다.\n",
    "- 풀링에서 pooling size와 pooling stride라는 두 변수가 필요한데, 개념은 각각 앞의 filter size와 stride와 같다. \n",
    "- max pooling : 풀링 patch 내에 있는 값 중에 가장 큰 값을 뽑아낸다. 자주 쓰인다. \n",
    "    - y가 풀링 결과값, x가 풀링필터 안에 있는 값들일 때, y = max(x_i)\n",
    "- average_pooling : 풀링 patch 내의 값을 평균내어 값을 뽑아낸다. \n",
    "    - y = mean([x for x in pooling_patch])\n"
   ]
  },
  {
   "cell_type": "markdown",
   "metadata": {},
   "source": [
    "\n",
    "## 1. import"
   ]
  },
  {
   "cell_type": "code",
   "execution_count": 1,
   "metadata": {
    "collapsed": true
   },
   "outputs": [],
   "source": [
    "from __future__ import print_function, division, absolute_import\n",
    "import os, sys, re\n",
    "import numpy as np\n",
    "import tensorflow as tf\n",
    "import matplotlib.pyplot as plt      # for plotting\n",
    "from IPython.display import display\n",
    "from ipywidgets import *\n",
    "from utils.utils_cnn import Utils_cnn\n",
    "from tensorflow.contrib.tensorboard.plugins import projector  # embedding"
   ]
  },
  {
   "cell_type": "markdown",
   "metadata": {},
   "source": [
    "\n",
    "## 2. load cifar-10 data"
   ]
  },
  {
   "cell_type": "code",
   "execution_count": 2,
   "metadata": {},
   "outputs": [
    {
     "name": "stdout",
     "output_type": "stream",
     "text": [
      "Data has apparently already been downloaded and unpacked.\n",
      "Loading data:  /Users/yangsoyoung/Desktop/tensor/data/cifar-10-batches-py/batches.meta\n",
      "Loading data:  /Users/yangsoyoung/Desktop/tensor/data/cifar-10-batches-py/data_batch_1\n",
      "Loading data:  /Users/yangsoyoung/Desktop/tensor/data/cifar-10-batches-py/data_batch_2\n",
      "Loading data:  /Users/yangsoyoung/Desktop/tensor/data/cifar-10-batches-py/data_batch_3\n",
      "Loading data:  /Users/yangsoyoung/Desktop/tensor/data/cifar-10-batches-py/data_batch_4\n",
      "Loading data:  /Users/yangsoyoung/Desktop/tensor/data/cifar-10-batches-py/data_batch_5\n",
      "Loading data:  /Users/yangsoyoung/Desktop/tensor/data/cifar-10-batches-py/test_batch\n"
     ]
    }
   ],
   "source": [
    "# make log_dir\n",
    "LOG_DIR = '/Users/yangsoyoung/Desktop/tensor/cnn_summary'\n",
    "if not os.path.isdir(LOG_DIR):\n",
    "    os.makedirs(LOG_DIR)\n",
    "\n",
    "# cifar-10 parameters\n",
    "data_path = '/Users/yangsoyoung/Desktop/tensor/data'\n",
    "\n",
    "num_files_train = 5\n",
    "images_per_file = 10000\n",
    "num_images_train = num_files_train * images_per_file\n",
    "\n",
    "img_width = 32\n",
    "img_height = 32\n",
    "num_channels = 3\n",
    "\n",
    "utils = Utils_cnn(data_path, num_files_train, images_per_file, img_height, img_width, num_channels)\n",
    "\n",
    "# load data\n",
    "utils.maybe_download_and_extract()\n",
    "\n",
    "class_names = utils.load_class_names()\n",
    "\n",
    "# load train data\n",
    "img_train, cls_train, labels_train = utils.load_training_data()\n",
    "# load test data\n",
    "img_test, cls_test, labels_test = utils.load_test_data(logdir=LOG_DIR, embed_size=1024)"
   ]
  },
  {
   "cell_type": "code",
   "execution_count": 3,
   "metadata": {},
   "outputs": [
    {
     "data": {
      "image/png": "[encoded data removed]",
      "text/plain": [
       "<matplotlib.figure.Figure at 0x120016fd0>"
      ]
     },
     "metadata": {},
     "output_type": "display_data"
    }
   ],
   "source": [
    "# check image\n",
    "\n",
    "n = 50 # image number you want to see\n",
    "\n",
    "img = img_train[n]\n",
    "name = class_names[cls_train[n]]\n",
    "\n",
    "img = img.reshape([32, 32, 3])\n",
    "fig = plt.figure()\n",
    "ax = fig.add_subplot(1,1,1)\n",
    "ax.set_title(\"True: {}\".format(name))\n",
    "ax.imshow(img)\n",
    "plt.show()"
   ]
  },
  {
   "cell_type": "code",
   "execution_count": 4,
   "metadata": {},
   "outputs": [
    {
     "name": "stdout",
     "output_type": "stream",
     "text": [
      "\n",
      "Size of :        img,   img_shape,         cls_shape, labels_shape\n",
      "- Training-set:\t 50000, (50000, 32, 32, 3), (50000,), (50000, 10)\n",
      "- Test-set: \t 1024, (1024, 32, 32, 3), (1024,), (1024, 10)\n"
     ]
    }
   ],
   "source": [
    "# check size of data\n",
    "print(\"\\nSize of :        img, img_shape, cls_shape, labels_shape\")\n",
    "print('- Training-set:\\t {}, {}, {}, {}'.format(len(img_train), img_train.shape, cls_train.shape, labels_train.shape))\n",
    "print('- Test-set: \\t {}, {}, {}, {}'.format(len(img_test), img_test.shape, cls_test.shape, labels_test.shape))"
   ]
  },
  {
   "cell_type": "markdown",
   "metadata": {},
   "source": [
    "## 3. model parameters"
   ]
  },
  {
   "cell_type": "code",
   "execution_count": 5,
   "metadata": {},
   "outputs": [
    {
     "data": {},
     "metadata": {},
     "output_type": "display_data"
    },
    {
     "data": {},
     "metadata": {},
     "output_type": "display_data"
    }
   ],
   "source": [
    "## widgets\n",
    "# learning parameters\n",
    "wg_lr = widgets.FloatSlider(value=0.001, min=1e-3, max=1., step=0.0001,\n",
    "                            description=\"learning rate: \", readout=True, readout_format='0.4f')\n",
    "wg_dp = widgets.FloatSlider(value=0.7, min=0.5, max=1., step=0.1,\n",
    "                            description=\"drop out prob: \", readout=True)\n",
    "# sizes\n",
    "wg_es = widgets.IntSlider(value=10, min=5, max=500, step=5, \n",
    "                          description=\"epoch size: \", readout=True)\n",
    "wg_bs = widgets.IntSlider(value=526, min=50, max=1000, step=1,\n",
    "                          description=\"mini batch size: \", readout=True)\n",
    "wg_fs = widgets.IntSlider(value=3, min=2, max=10, step=1,\n",
    "                          description=\"filter size: \", readout=True)\n",
    "# layers\n",
    "wg_n_f = widgets.IntSlider(value=64, min=16, max=128, step=1,\n",
    "                           description=\"num filters: \", readout=True)\n",
    "wg_n_cl = widgets.IntSlider(value=3, min=2, max=5, step=1,\n",
    "                            description=\"num conv layers: \", readout=True)\n",
    "wg_n_hl = widgets.IntSlider(value=3, min=1, max=5, step=1,\n",
    "                            description=\"num hidden layers: \", readout=True)\n",
    "wg_n_hd = widgets.SelectionSlider(value=512, options=[128, 256, 512, 1024, 2048],\n",
    "                                  description=\"hl dimension: \", readout=True)\n",
    "# options initializer\n",
    "wg_init = widgets.ToggleButton(value=False, button_style='success',\n",
    "                                        description=\"Options initializer\", disabled=False, icon='check')\n",
    "\n",
    "def merged_widgets_model(lr, dp, es, bs, fs, nf, ncl, nhl, nhd):\n",
    "    conv_nodes = [32, 64, 128, 256, 521, 1024]\n",
    "    conv_nodes = conv_nodes[:ncl]\n",
    "    return(lr, dp, es, bs, fs, nf, ncl, nhl, nhd, conv_nodes)\n",
    "\n",
    "def init_parameters(value):\n",
    "    if value:\n",
    "        wg_lr.value = 0.001\n",
    "        wg_dp.value = 0.7\n",
    "        wg_es.value = 10\n",
    "        wg_bs.value = 526\n",
    "        wg_fs.value = 2\n",
    "        wg_n_f.value = 64\n",
    "        wg_n_cl.value = 3\n",
    "        wg_n_hl.value = 3\n",
    "        wg_n_hd.value = 526\n",
    "\n",
    "        \n",
    "merged_widget_model_cnn = interactive(merged_widgets_model, lr=wg_lr, dp=wg_dp, es=wg_es, bs=wg_bs, fs=wg_fs,\\\n",
    "                                      nf=wg_n_f, ncl=wg_n_cl, nhl=wg_n_hl, nhd=wg_n_hd)\n",
    "widgets_init = interactive(init_parameters, value=wg_init)\n",
    "\n",
    "display(merged_widget_model_cnn, widgets_init)"
   ]
  },
  {
   "cell_type": "code",
   "execution_count": 6,
   "metadata": {},
   "outputs": [
    {
     "name": "stdout",
     "output_type": "stream",
     "text": [
      "conv layers' nodes:  [32, 64, 128]\n"
     ]
    }
   ],
   "source": [
    "lr, prob, epoch_size, batch_size, filter_size, \\\n",
    "n_filter, n_conv_layers, n_hid_layers, n_hid_dim, conv_nodes = merged_widget_model_cnn.result\n",
    "\n",
    "print(\"conv layers' nodes: \", conv_nodes)"
   ]
  },
  {
   "cell_type": "markdown",
   "metadata": {},
   "source": [
    "## 4. Graphing"
   ]
  },
  {
   "cell_type": "code",
   "execution_count": 9,
   "metadata": {},
   "outputs": [
    {
     "name": "stdout",
     "output_type": "stream",
     "text": [
      "\n",
      "Graphing finished! Training starts ...\n",
      "\n",
      "===================================================\n"
     ]
    }
   ],
   "source": [
    "graph = tf.Graph()\n",
    "\n",
    "with graph.as_default():\n",
    "\n",
    "    # global step\n",
    "    global_step = tf.Variable(0, name='global_step', trainable=False)\n",
    "\n",
    "    # dropout probability\n",
    "    keep_prob = tf.placeholder(dtype=tf.float32)\n",
    "\n",
    "    #############################################\n",
    "    # MODEL\n",
    "    #############################################\n",
    "    # input - conv1\n",
    "    # conv1 - conv2 - ...\n",
    "    # conv_last - fc_hid1\n",
    "    # fc_hid1 - fc_hid2 - ...\n",
    "    # fc_hid_last - output_layers : classifier\n",
    "    #############################################\n",
    "\n",
    "    \n",
    "    #################\n",
    "    # conv layers\n",
    "    #################\n",
    "    \n",
    "    ## input to convolution layer 1\n",
    "    with tf.name_scope(\"input_conv1\"):\n",
    "        # placeholder\n",
    "        X = tf.placeholder(shape=[None, img_height, img_width, num_channels], dtype=tf.float32, name='X')\n",
    "        Y = tf.placeholder(shape=[None, 10], dtype=tf.float32, name='Y_true')\n",
    "        Y_cls = tf.argmax(Y, dimension=1)\n",
    "        # Variable\n",
    "        W = tf.Variable(initial_value=utils.xavier_init([filter_size, filter_size, 3, conv_nodes[0]]), name='weight')\n",
    "        b = tf.Variable(initial_value=utils.xavier_init([conv_nodes[0]]), name='bias')\n",
    "\n",
    "        conv = tf.nn.conv2d(X, W, strides=[1, 1, 1, 1], padding='SAME')\n",
    "        bias = tf.nn.bias_add(conv, b)  # not necessary\n",
    "\n",
    "        output = tf.nn.relu(bias)\n",
    "\n",
    "        pool = tf.nn.max_pool(output, ksize=[1, 2, 2, 1], strides=[1, 2, 2, 1], padding='SAME', name='pool')\n",
    "        drop = tf.nn.dropout(pool, keep_prob=keep_prob)\n",
    "        \n",
    "        conv_img = tf.split(output, conv_nodes[0], 3)\n",
    "\n",
    "        # summary\n",
    "        tf.summary.histogram(name='input_conv1_weight', values=W)\n",
    "        tf.summary.histogram(name='input_conv1_bias', values=b)\n",
    "        tf.summary.image(name='input_conv1_image', tensor=conv_img, max_outputs=conv_nodes[0])\n",
    "        for i in range(len(conv_img)):\n",
    "            tf.summary.image(name=\"filterd_img_{}\".format(i), tensor=conv_img[i])\n",
    "\n",
    "\n",
    "    ## convolution layers\n",
    "    for layer in range(1, n_conv_layers):\n",
    "        with tf.name_scope(\"conv{}_conv{}\".format(layer, layer+1)):\n",
    "            # Weight and bias\n",
    "            W = tf.Variable(initial_value=utils.xavier_init([filter_size, filter_size,\n",
    "                                                             conv_nodes[layer-1], conv_nodes[layer]]), name='weight')\n",
    "            b = tf.Variable(initial_value=utils.xavier_init([conv_nodes[layer]]), name='bias')\n",
    "            # convolution\n",
    "            conv = tf.nn.conv2d(drop, W, strides=[1, 1, 1, 1], padding='SAME')\n",
    "            bias = tf.nn.bias_add(conv, b)\n",
    "\n",
    "            output = tf.nn.relu(bias, name='conv')\n",
    "            \n",
    "            # max-pooling\n",
    "            pool = tf.nn.max_pool(output, ksize=[1, 2, 2, 1], strides=[1, 2, 2, 1], padding='SAME', name='pool')\n",
    "            drop = tf.nn.dropout(pool, keep_prob=keep_prob, name='drop_output')\n",
    "\n",
    "            # size, filter_img, conv_img = reformat_w(W, output)\n",
    "            conv_img = tf.split(output, conv_nodes[layer], 3)\n",
    "\n",
    "            # summary\n",
    "            tf.summary.histogram(name='conv{}_conv{}_weight'.format(layer, layer+1), values=W)\n",
    "            tf.summary.histogram(name='conv{}_conv{}_bias'.format(layer, layer+1), values=b)\n",
    "            tf.summary.image(name='input_conv1_image', tensor=conv_img, max_outputs=conv_nodes[layer])\n",
    "            for i in range(len(conv_img)):\n",
    "                tf.summary.image(name=\"filterd_img_{}\".format(i), tensor=conv_img[i])\n",
    "\n",
    "                \n",
    "    #################\n",
    "    # fc layers (DNN)\n",
    "    #################\n",
    "    \n",
    "    ## last convolution layer to fully connected layer1\n",
    "    last_layer = n_conv_layers - 1\n",
    "    with tf.name_scope(\"conv{}_fc1\".format(last_layer)):\n",
    "\n",
    "        ds = drop.get_shape().as_list()           # drop's shape\n",
    "        fm_dim = ds[1]*ds[2]*ds[3]                # feature map dimension\n",
    "\n",
    "        output_flat = tf.reshape(drop, shape=[-1, fm_dim])\n",
    "\n",
    "        W = tf.Variable(initial_value=utils.xavier_init([fm_dim, n_hid_dim]), name='W')\n",
    "        b = tf.Variable(initial_value=utils.xavier_init([n_hid_dim]), name='b')\n",
    "\n",
    "        output = tf.nn.relu(tf.add(tf.matmul(output_flat, W), b), name='output2')\n",
    "        drop = tf.nn.dropout(output, keep_prob=keep_prob)\n",
    "\n",
    "        # summary\n",
    "        tf.summary.histogram(name='conv{}_fc1_weight'.format(last_layer), values=W)\n",
    "        tf.summary.histogram(name='conv{}_fc1_bias'.format(last_layer), values=b)\n",
    "\n",
    "    \n",
    "    ## fully connected - hidden layers\n",
    "    for layer in range(1, n_hid_layers):\n",
    "        with tf.name_scope(\"fc{}_fc{}\".format(layer, layer+1)):\n",
    "            W = tf.Variable(initial_value=utils.xavier_init([n_hid_dim, n_hid_dim]), name='W')\n",
    "            b = tf.Variable(initial_value=utils.xavier_init([n_hid_dim]), name='b')\n",
    "\n",
    "            output = tf.nn.relu(tf.add(tf.matmul(drop, W), b), name='output')\n",
    "            drop = tf.nn.dropout(output, keep_prob=keep_prob)\n",
    "\n",
    "            # summary\n",
    "            tf.summary.histogram(name='fc{}_fc{}_weight'.format(layer, layer+1), values=W)\n",
    "            tf.summary.histogram(name='fc{}_fc{}_bias'.format(layer, layer+1), values=b)\n",
    "\n",
    "    ## fc output layer : classifier\n",
    "    with tf.name_scope(\"fc_output_layer\"):\n",
    "        W = tf.Variable(initial_value=utils.xavier_init([n_hid_dim, 10]), name='W')\n",
    "        b = tf.Variable(initial_value=utils.xavier_init([10]), name='b')\n",
    "\n",
    "        logit = tf.add(tf.matmul(drop, W), b, name='logit')\n",
    "        y_pred = tf.nn.softmax(logit, name='y_pred')\n",
    "\n",
    "        tf.summary.histogram(name='fc_output_layer_weight', values=W)\n",
    "        tf.summary.histogram(name='fc_output_layer_bias', values=b)\n",
    "\n",
    "\n",
    "    #####################\n",
    "    # training variables\n",
    "    #####################\n",
    "\n",
    "    ## loss\n",
    "    with tf.name_scope(\"loss\"):\n",
    "        loss = tf.reduce_mean(tf.nn.softmax_cross_entropy_with_logits(logits=logit, labels=Y, name='loss'))\n",
    "        optimizer = tf.train.AdamOptimizer(learning_rate=lr).minimize(loss, name='opt', global_step=global_step)\n",
    "\n",
    "        # summary\n",
    "        tf.summary.scalar(name='loss', tensor=loss)\n",
    "\n",
    "    ## accuracy\n",
    "    with tf.name_scope(\"accuracy\"):\n",
    "        predicted_label = tf.argmax(y_pred, axis=1, name='prediction')\n",
    "        correct = tf.equal(tf.argmax(y_pred, 1), tf.argmax(Y, 1))\n",
    "        accuracy_op = tf.reduce_mean(tf.cast(correct, tf.float32))\n",
    "\n",
    "        # summary\n",
    "        tf.summary.scalar(name='accuracy', tensor=accuracy_op)\n",
    "\n",
    "\n",
    "    ## embedding\n",
    "    with tf.name_scope(\"embedding\"):\n",
    "        # embedding setup\n",
    "        embeddings = tf.Variable(initial_value=utils.xavier_init([1024, 10]), name=\"cifar10_embedding\")\n",
    "        embedding_update = tf.assign(ref=embeddings, value=logit, name=\"update\")\n",
    "\n",
    "        # variable initializer\n",
    "        init = tf.global_variables_initializer()\n",
    "\n",
    "        # writer & saver\n",
    "        writer = tf.summary.FileWriter(LOG_DIR, graph=graph)\n",
    "        saver = tf.train.Saver()\n",
    "\n",
    "        # tensorboard's summaries & embedding\n",
    "        merged_summ = tf.summary.merge_all()\n",
    "\n",
    "        # embedding system (to visualize)\n",
    "        config = projector.ProjectorConfig()\n",
    "        embedding_config = config.embeddings.add()\n",
    "        embedding_config.tensor_name = embeddings.name\n",
    "        embedding_config.metadata_path = os.path.join(LOG_DIR, 'metadata.tsv')\n",
    "        projector.visualize_embeddings(writer, config)\n",
    "\n",
    "\n",
    "print(\"\\nGraphing finished! Training starts ...\\n\")\n",
    "print(\"===================================================\")"
   ]
  },
  {
   "cell_type": "markdown",
   "metadata": {},
   "source": [
    "## 5. tf.Session()"
   ]
  },
  {
   "cell_type": "code",
   "execution_count": 10,
   "metadata": {
    "scrolled": false
   },
   "outputs": [
    {
     "name": "stdout",
     "output_type": "stream",
     "text": [
      "Reading model parameters from /Users/yangsoyoung/Desktop/tensor/cnn_summary/cnn_cifar10.ckpt-2\n",
      "INFO:tensorflow:Restoring parameters from /Users/yangsoyoung/Desktop/tensor/cnn_summary/cnn_cifar10.ckpt-2\n",
      " epoch: 3/10, loss: 2.308974713087082\n",
      " epoch: 4/10, loss: 2.309422547618548\n"
     ]
    },
    {
     "ename": "KeyboardInterrupt",
     "evalue": "",
     "output_type": "error",
     "traceback": [
      "\u001b[0;31m---------------------------------------------------------------------------\u001b[0m",
      "\u001b[0;31mKeyboardInterrupt\u001b[0m                         Traceback (most recent call last)",
      "\u001b[0;32m<ipython-input-10-198cad379145>\u001b[0m in \u001b[0;36m<module>\u001b[0;34m()\u001b[0m\n\u001b[1;32m     27\u001b[0m             \u001b[0mx\u001b[0m\u001b[0;34m,\u001b[0m \u001b[0my\u001b[0m \u001b[0;34m=\u001b[0m \u001b[0mnext\u001b[0m\u001b[0;34m(\u001b[0m\u001b[0mgenerator\u001b[0m\u001b[0;34m)\u001b[0m\u001b[0;34m\u001b[0m\u001b[0m\n\u001b[1;32m     28\u001b[0m \u001b[0;34m\u001b[0m\u001b[0m\n\u001b[0;32m---> 29\u001b[0;31m             \u001b[0mlocal_loss\u001b[0m\u001b[0;34m,\u001b[0m \u001b[0m_\u001b[0m\u001b[0;34m=\u001b[0m \u001b[0msess\u001b[0m\u001b[0;34m.\u001b[0m\u001b[0mrun\u001b[0m\u001b[0;34m(\u001b[0m\u001b[0;34m[\u001b[0m\u001b[0mloss\u001b[0m\u001b[0;34m,\u001b[0m \u001b[0moptimizer\u001b[0m\u001b[0;34m]\u001b[0m\u001b[0;34m,\u001b[0m \u001b[0mfeed_dict\u001b[0m\u001b[0;34m=\u001b[0m\u001b[0;34m{\u001b[0m\u001b[0mX\u001b[0m\u001b[0;34m:\u001b[0m\u001b[0mx\u001b[0m\u001b[0;34m,\u001b[0m \u001b[0mY\u001b[0m\u001b[0;34m:\u001b[0m\u001b[0my\u001b[0m\u001b[0;34m,\u001b[0m \u001b[0mkeep_prob\u001b[0m\u001b[0;34m:\u001b[0m\u001b[0mprob\u001b[0m\u001b[0;34m}\u001b[0m\u001b[0;34m)\u001b[0m\u001b[0;34m\u001b[0m\u001b[0m\n\u001b[0m\u001b[1;32m     30\u001b[0m             \u001b[0mtotal_loss\u001b[0m \u001b[0;34m+=\u001b[0m \u001b[0mlocal_loss\u001b[0m\u001b[0;34m\u001b[0m\u001b[0m\n\u001b[1;32m     31\u001b[0m \u001b[0;34m\u001b[0m\u001b[0m\n",
      "\u001b[0;32m/Applications/anaconda3/envs/tensorflow/lib/python3.6/site-packages/tensorflow/python/client/session.py\u001b[0m in \u001b[0;36mrun\u001b[0;34m(self, fetches, feed_dict, options, run_metadata)\u001b[0m\n\u001b[1;32m    787\u001b[0m     \u001b[0;32mtry\u001b[0m\u001b[0;34m:\u001b[0m\u001b[0;34m\u001b[0m\u001b[0m\n\u001b[1;32m    788\u001b[0m       result = self._run(None, fetches, feed_dict, options_ptr,\n\u001b[0;32m--> 789\u001b[0;31m                          run_metadata_ptr)\n\u001b[0m\u001b[1;32m    790\u001b[0m       \u001b[0;32mif\u001b[0m \u001b[0mrun_metadata\u001b[0m\u001b[0;34m:\u001b[0m\u001b[0;34m\u001b[0m\u001b[0m\n\u001b[1;32m    791\u001b[0m         \u001b[0mproto_data\u001b[0m \u001b[0;34m=\u001b[0m \u001b[0mtf_session\u001b[0m\u001b[0;34m.\u001b[0m\u001b[0mTF_GetBuffer\u001b[0m\u001b[0;34m(\u001b[0m\u001b[0mrun_metadata_ptr\u001b[0m\u001b[0;34m)\u001b[0m\u001b[0;34m\u001b[0m\u001b[0m\n",
      "\u001b[0;32m/Applications/anaconda3/envs/tensorflow/lib/python3.6/site-packages/tensorflow/python/client/session.py\u001b[0m in \u001b[0;36m_run\u001b[0;34m(self, handle, fetches, feed_dict, options, run_metadata)\u001b[0m\n\u001b[1;32m    995\u001b[0m     \u001b[0;32mif\u001b[0m \u001b[0mfinal_fetches\u001b[0m \u001b[0;32mor\u001b[0m \u001b[0mfinal_targets\u001b[0m\u001b[0;34m:\u001b[0m\u001b[0;34m\u001b[0m\u001b[0m\n\u001b[1;32m    996\u001b[0m       results = self._do_run(handle, final_targets, final_fetches,\n\u001b[0;32m--> 997\u001b[0;31m                              feed_dict_string, options, run_metadata)\n\u001b[0m\u001b[1;32m    998\u001b[0m     \u001b[0;32melse\u001b[0m\u001b[0;34m:\u001b[0m\u001b[0;34m\u001b[0m\u001b[0m\n\u001b[1;32m    999\u001b[0m       \u001b[0mresults\u001b[0m \u001b[0;34m=\u001b[0m \u001b[0;34m[\u001b[0m\u001b[0;34m]\u001b[0m\u001b[0;34m\u001b[0m\u001b[0m\n",
      "\u001b[0;32m/Applications/anaconda3/envs/tensorflow/lib/python3.6/site-packages/tensorflow/python/client/session.py\u001b[0m in \u001b[0;36m_do_run\u001b[0;34m(self, handle, target_list, fetch_list, feed_dict, options, run_metadata)\u001b[0m\n\u001b[1;32m   1130\u001b[0m     \u001b[0;32mif\u001b[0m \u001b[0mhandle\u001b[0m \u001b[0;32mis\u001b[0m \u001b[0;32mNone\u001b[0m\u001b[0;34m:\u001b[0m\u001b[0;34m\u001b[0m\u001b[0m\n\u001b[1;32m   1131\u001b[0m       return self._do_call(_run_fn, self._session, feed_dict, fetch_list,\n\u001b[0;32m-> 1132\u001b[0;31m                            target_list, options, run_metadata)\n\u001b[0m\u001b[1;32m   1133\u001b[0m     \u001b[0;32melse\u001b[0m\u001b[0;34m:\u001b[0m\u001b[0;34m\u001b[0m\u001b[0m\n\u001b[1;32m   1134\u001b[0m       return self._do_call(_prun_fn, self._session, handle, feed_dict,\n",
      "\u001b[0;32m/Applications/anaconda3/envs/tensorflow/lib/python3.6/site-packages/tensorflow/python/client/session.py\u001b[0m in \u001b[0;36m_do_call\u001b[0;34m(self, fn, *args)\u001b[0m\n\u001b[1;32m   1137\u001b[0m   \u001b[0;32mdef\u001b[0m \u001b[0m_do_call\u001b[0m\u001b[0;34m(\u001b[0m\u001b[0mself\u001b[0m\u001b[0;34m,\u001b[0m \u001b[0mfn\u001b[0m\u001b[0;34m,\u001b[0m \u001b[0;34m*\u001b[0m\u001b[0margs\u001b[0m\u001b[0;34m)\u001b[0m\u001b[0;34m:\u001b[0m\u001b[0;34m\u001b[0m\u001b[0m\n\u001b[1;32m   1138\u001b[0m     \u001b[0;32mtry\u001b[0m\u001b[0;34m:\u001b[0m\u001b[0;34m\u001b[0m\u001b[0m\n\u001b[0;32m-> 1139\u001b[0;31m       \u001b[0;32mreturn\u001b[0m \u001b[0mfn\u001b[0m\u001b[0;34m(\u001b[0m\u001b[0;34m*\u001b[0m\u001b[0margs\u001b[0m\u001b[0;34m)\u001b[0m\u001b[0;34m\u001b[0m\u001b[0m\n\u001b[0m\u001b[1;32m   1140\u001b[0m     \u001b[0;32mexcept\u001b[0m \u001b[0merrors\u001b[0m\u001b[0;34m.\u001b[0m\u001b[0mOpError\u001b[0m \u001b[0;32mas\u001b[0m \u001b[0me\u001b[0m\u001b[0;34m:\u001b[0m\u001b[0;34m\u001b[0m\u001b[0m\n\u001b[1;32m   1141\u001b[0m       \u001b[0mmessage\u001b[0m \u001b[0;34m=\u001b[0m \u001b[0mcompat\u001b[0m\u001b[0;34m.\u001b[0m\u001b[0mas_text\u001b[0m\u001b[0;34m(\u001b[0m\u001b[0me\u001b[0m\u001b[0;34m.\u001b[0m\u001b[0mmessage\u001b[0m\u001b[0;34m)\u001b[0m\u001b[0;34m\u001b[0m\u001b[0m\n",
      "\u001b[0;32m/Applications/anaconda3/envs/tensorflow/lib/python3.6/site-packages/tensorflow/python/client/session.py\u001b[0m in \u001b[0;36m_run_fn\u001b[0;34m(session, feed_dict, fetch_list, target_list, options, run_metadata)\u001b[0m\n\u001b[1;32m   1119\u001b[0m         return tf_session.TF_Run(session, options,\n\u001b[1;32m   1120\u001b[0m                                  \u001b[0mfeed_dict\u001b[0m\u001b[0;34m,\u001b[0m \u001b[0mfetch_list\u001b[0m\u001b[0;34m,\u001b[0m \u001b[0mtarget_list\u001b[0m\u001b[0;34m,\u001b[0m\u001b[0;34m\u001b[0m\u001b[0m\n\u001b[0;32m-> 1121\u001b[0;31m                                  status, run_metadata)\n\u001b[0m\u001b[1;32m   1122\u001b[0m \u001b[0;34m\u001b[0m\u001b[0m\n\u001b[1;32m   1123\u001b[0m     \u001b[0;32mdef\u001b[0m \u001b[0m_prun_fn\u001b[0m\u001b[0;34m(\u001b[0m\u001b[0msession\u001b[0m\u001b[0;34m,\u001b[0m \u001b[0mhandle\u001b[0m\u001b[0;34m,\u001b[0m \u001b[0mfeed_dict\u001b[0m\u001b[0;34m,\u001b[0m \u001b[0mfetch_list\u001b[0m\u001b[0;34m)\u001b[0m\u001b[0;34m:\u001b[0m\u001b[0;34m\u001b[0m\u001b[0m\n",
      "\u001b[0;31mKeyboardInterrupt\u001b[0m: "
     ]
    }
   ],
   "source": [
    "with tf.Session(graph=graph) as sess:\n",
    "\n",
    "    ckpt = tf.train.get_checkpoint_state(LOG_DIR)\n",
    "\n",
    "    # start running or load previous checkpoints\n",
    "    if ckpt and tf.train.checkpoint_exists(LOG_DIR):\n",
    "        print(\"Reading model parameters from %s\" % ckpt.model_checkpoint_path)\n",
    "        try:\n",
    "            saver.restore(sess, ckpt.model_checkpoint_path)\n",
    "            path = ckpt.model_checkpoint_path\n",
    "            global_epoch = int(re.search(r\"^\\d+\", path.split('_')[3]).group(0))\n",
    "            global_step_pre = int(path.split('-')[-1])\n",
    "            batch_start = int(global_step_pre / (global_epoch + 1))\n",
    "        except:\n",
    "            print(\"\\nError on loading old network weights\")\n",
    "\n",
    "    else:\n",
    "        print(\"Created model with fresh parameters ...\")\n",
    "        sess.run(init)\n",
    "        global_epoch = 0\n",
    "        batch_start = 0\n",
    "\n",
    "    num_batches_per_epoch = int(np.ceil(len(img_train)/ batch_size))\n",
    "\n",
    "    # traning starts\n",
    "    for epoch in range(global_epoch, epoch_size):\n",
    "\n",
    "        total_loss = 0\n",
    "        generator = utils.generate_batch(img_train, labels_train, batch_size)\n",
    "\n",
    "        for batch in range(batch_start, num_batches_per_epoch):\n",
    "            x, y = next(generator)\n",
    "\n",
    "            local_loss, _, step = sess.run([loss, optimizer, global_step], feed_dict={X:x, Y:y, keep_prob:prob})\n",
    "            total_loss += local_loss\n",
    "\n",
    "            if step % 10==0 :\n",
    "                # summary\n",
    "                summary = sess.run(merged_summ, feed_dict={X: x, Y: y, keep_prob: prob})\n",
    "                writer.add_summary(summary=summary, global_step=step)\n",
    "\n",
    "                # save\n",
    "                saver.save(sess, os.path.join(LOG_DIR, 'cnn_cifar10_{}.ckpt'.format(epoch)), global_step=step)\n",
    "                print(\"global step : {}, model saved.\".format(step))\n",
    "\n",
    "        batch_start = 0\n",
    "        accuracy, _ = sess.run([accuracy_op, embedding_update], feed_dict={X:img_test, Y:labels_test, keep_prob:1.0})\n",
    "        total_loss = total_loss/(num_batches_per_epoch - batch_start)\n",
    "        print(\" epoch: {}/{}, loss: {}, accuracy: {}\".format(epoch+1, epoch_size, total_loss, accuracy))\n",
    "\n",
    "\n",
    "    # final accuracy with test data\n",
    "    accuracy, _ = sess.run([accuracy_op, embedding_update], feed_dict={X:img_test, Y:labels_test, keep_prob:1.0})\n",
    "\n",
    "    print(\"===================================================\")\n",
    "    print(\"Training finished! Accuaracy: {}\".format(accuracy))"
   ]
  },
  {
   "cell_type": "markdown",
   "metadata": {},
   "source": [
    "## 6. Plot test image"
   ]
  },
  {
   "cell_type": "code",
   "execution_count": 23,
   "metadata": {
    "collapsed": true
   },
   "outputs": [],
   "source": [
    "def plot_result(show_test_sample_size):\n",
    "    orders = np.random.choice(len(img_test), show_test_sample_size)\n",
    "    \n",
    "    with tf.Session(graph=graph) as sess:\n",
    "        ckpt = tf.train.get_checkpoint_state(LOG_DIR)\n",
    "        saver.restore(sess, ckpt.model_checkpoint_path)\n",
    "        \n",
    "        predicted = sess.run(predicted_label, feed_dict={X:img_test, Y:labels_test, keep_prob:1.0})\n",
    "    \n",
    "    for i, n in enumerate(orders):\n",
    "        data = img_test[n]\n",
    "        target_label = int(cls_test[n])\n",
    "        pred_label = int(predicted[n])\n",
    "        \n",
    "        pixels = data.reshape([32, 32, 3])\n",
    "        fig = plt.figure(figsize=(20,20))\n",
    "        ax = fig.add_subplot(show_test_sample_size, 1, i+1)\n",
    "        ax.set_title(\"Predicts: {}\\nTrue: {}\".format(class_names[pred_label], class_names[target_label]))\n",
    "        ax.imshow(pixels)\n",
    "    plt.show()"
   ]
  },
  {
   "cell_type": "code",
   "execution_count": 24,
   "metadata": {},
   "outputs": [
    {
     "name": "stdout",
     "output_type": "stream",
     "text": [
      "INFO:tensorflow:Restoring parameters from /Users/yangsoyoung/Desktop/tensor/cnn_summary/cnn_cifar10.ckpt-3\n"
     ]
    },
    {
     "data": {
      "image/png": "[encoded data removed]",
      "text/plain": [
       "<matplotlib.figure.Figure at 0x17cc5b828>"
      ]
     },
     "metadata": {},
     "output_type": "display_data"
    },
    {
     "data": {
      "image/png": "[encoded data removed]",
      "text/plain": [
       "<matplotlib.figure.Figure at 0x17cffcdd8>"
      ]
     },
     "metadata": {},
     "output_type": "display_data"
    },
    {
     "data": {
      "image/png": "[encoded data removed]",
      "text/plain": [
       "<matplotlib.figure.Figure at 0x17cfde5f8>"
      ]
     },
     "metadata": {},
     "output_type": "display_data"
    },
    {
     "data": {
      "image/png": "[encoded data removed]",
      "text/plain": [
       "<matplotlib.figure.Figure at 0x16a608278>"
      ]
     },
     "metadata": {},
     "output_type": "display_data"
    },
    {
     "data": {
      "image/png": "[encoded data removed]",
      "text/plain": [
       "<matplotlib.figure.Figure at 0x16a6929e8>"
      ]
     },
     "metadata": {},
     "output_type": "display_data"
    },
    {
     "data": {
      "image/png": "[encoded data removed]",
      "text/plain": [
       "<matplotlib.figure.Figure at 0x17c6eb2b0>"
      ]
     },
     "metadata": {},
     "output_type": "display_data"
    },
    {
     "data": {
      "image/png": "[encoded data removed]",
      "text/plain": [
       "<matplotlib.figure.Figure at 0x17c76a550>"
      ]
     },
     "metadata": {},
     "output_type": "display_data"
    },
    {
     "data": {
      "image/png": "[encoded data removed]",
      "text/plain": [
       "<matplotlib.figure.Figure at 0x17c1108d0>"
      ]
     },
     "metadata": {},
     "output_type": "display_data"
    },
    {
     "data": {
      "image/png": "[encoded data removed]",
      "text/plain": [
       "<matplotlib.figure.Figure at 0x17c3b4e80>"
      ]
     },
     "metadata": {},
     "output_type": "display_data"
    },
    {
     "data": {
      "image/png": "[encoded data removed]",
      "text/plain": [
       "<matplotlib.figure.Figure at 0x17c4a5588>"
      ]
     },
     "metadata": {},
     "output_type": "display_data"
    }
   ],
   "source": [
    "plot_result(10)"
   ]
  }
 ],
 "metadata": {
  "kernelspec": {
   "display_name": "Python 3",
   "language": "python",
   "name": "python3"
  },
  "language_info": {
   "codemirror_mode": {
    "name": "ipython",
    "version": 3
   },
   "file_extension": ".py",
   "mimetype": "text/x-python",
   "name": "python",
   "nbconvert_exporter": "python",
   "pygments_lexer": "ipython3",
   "version": "3.6.1"
  }
 },
 "nbformat": 4,
 "nbformat_minor": 1
}
